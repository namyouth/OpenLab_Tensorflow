{
  "nbformat": 4,
  "nbformat_minor": 0,
  "metadata": {
    "colab": {
      "name": "10_1_Reinforcement_learning.ipynb",
      "provenance": [],
      "collapsed_sections": []
    },
    "kernelspec": {
      "name": "python3",
      "display_name": "Python 3"
    },
    "accelerator": "GPU"
  },
  "cells": [
    {
      "cell_type": "code",
      "metadata": {
        "id": "2hVYIwEfi2MQ",
        "colab_type": "code",
        "outputId": "38f050bf-a697-4a4c-f514-1849a0c3936b",
        "colab": {
          "base_uri": "https://localhost:8080/",
          "height": 397
        }
      },
      "source": [
        "!pip install tensorflow-gpu==2.0.0-alpha0\n",
        "import tensorflow as tf\n",
        "import numpy as np\n",
        "print(tf.__version__)"
      ],
      "execution_count": 0,
      "outputs": [
        {
          "output_type": "stream",
          "text": [
            "Requirement already satisfied: tensorflow-gpu==2.0.0-alpha0 in /usr/local/lib/python3.6/dist-packages (2.0.0a0)\n",
            "Requirement already satisfied: tf-estimator-nightly<1.14.0.dev2019030116,>=1.14.0.dev2019030115 in /usr/local/lib/python3.6/dist-packages (from tensorflow-gpu==2.0.0-alpha0) (1.14.0.dev2019030115)\n",
            "Requirement already satisfied: google-pasta>=0.1.2 in /usr/local/lib/python3.6/dist-packages (from tensorflow-gpu==2.0.0-alpha0) (0.2.0)\n",
            "Requirement already satisfied: keras-preprocessing>=1.0.5 in /usr/local/lib/python3.6/dist-packages (from tensorflow-gpu==2.0.0-alpha0) (1.1.0)\n",
            "Requirement already satisfied: gast>=0.2.0 in /usr/local/lib/python3.6/dist-packages (from tensorflow-gpu==2.0.0-alpha0) (0.2.2)\n",
            "Requirement already satisfied: six>=1.10.0 in /usr/local/lib/python3.6/dist-packages (from tensorflow-gpu==2.0.0-alpha0) (1.12.0)\n",
            "Requirement already satisfied: astor>=0.6.0 in /usr/local/lib/python3.6/dist-packages (from tensorflow-gpu==2.0.0-alpha0) (0.8.1)\n",
            "Requirement already satisfied: grpcio>=1.8.6 in /usr/local/lib/python3.6/dist-packages (from tensorflow-gpu==2.0.0-alpha0) (1.24.3)\n",
            "Requirement already satisfied: absl-py>=0.7.0 in /usr/local/lib/python3.6/dist-packages (from tensorflow-gpu==2.0.0-alpha0) (0.9.0)\n",
            "Requirement already satisfied: tb-nightly<1.14.0a20190302,>=1.14.0a20190301 in /usr/local/lib/python3.6/dist-packages (from tensorflow-gpu==2.0.0-alpha0) (1.14.0a20190301)\n",
            "Requirement already satisfied: numpy<2.0,>=1.14.5 in /usr/local/lib/python3.6/dist-packages (from tensorflow-gpu==2.0.0-alpha0) (1.18.2)\n",
            "Requirement already satisfied: termcolor>=1.1.0 in /usr/local/lib/python3.6/dist-packages (from tensorflow-gpu==2.0.0-alpha0) (1.1.0)\n",
            "Requirement already satisfied: wheel>=0.26 in /usr/local/lib/python3.6/dist-packages (from tensorflow-gpu==2.0.0-alpha0) (0.34.2)\n",
            "Requirement already satisfied: protobuf>=3.6.1 in /usr/local/lib/python3.6/dist-packages (from tensorflow-gpu==2.0.0-alpha0) (3.10.0)\n",
            "Requirement already satisfied: keras-applications>=1.0.6 in /usr/local/lib/python3.6/dist-packages (from tensorflow-gpu==2.0.0-alpha0) (1.0.8)\n",
            "Requirement already satisfied: werkzeug>=0.11.15 in /usr/local/lib/python3.6/dist-packages (from tb-nightly<1.14.0a20190302,>=1.14.0a20190301->tensorflow-gpu==2.0.0-alpha0) (1.0.0)\n",
            "Requirement already satisfied: markdown>=2.6.8 in /usr/local/lib/python3.6/dist-packages (from tb-nightly<1.14.0a20190302,>=1.14.0a20190301->tensorflow-gpu==2.0.0-alpha0) (3.2.1)\n",
            "Requirement already satisfied: setuptools in /usr/local/lib/python3.6/dist-packages (from protobuf>=3.6.1->tensorflow-gpu==2.0.0-alpha0) (46.1.3)\n",
            "Requirement already satisfied: h5py in /usr/local/lib/python3.6/dist-packages (from keras-applications>=1.0.6->tensorflow-gpu==2.0.0-alpha0) (2.8.0)\n",
            "2.0.0-alpha0\n"
          ],
          "name": "stdout"
        }
      ]
    },
    {
      "cell_type": "code",
      "metadata": {
        "id": "r-peTj4C9vfk",
        "colab_type": "code",
        "outputId": "d8017440-e3ba-4009-e5c6-6f0fe46ba96d",
        "colab": {
          "base_uri": "https://localhost:8080/",
          "height": 649
        }
      },
      "source": [
        "!pip install tensorflow==2.0.0"
      ],
      "execution_count": 0,
      "outputs": [
        {
          "output_type": "stream",
          "text": [
            "Requirement already satisfied: tensorflow==2.0.0 in /usr/local/lib/python3.6/dist-packages (2.0.0)\n",
            "Requirement already satisfied: wrapt>=1.11.1 in /usr/local/lib/python3.6/dist-packages (from tensorflow==2.0.0) (1.12.1)\n",
            "Requirement already satisfied: tensorflow-estimator<2.1.0,>=2.0.0 in /usr/local/lib/python3.6/dist-packages (from tensorflow==2.0.0) (2.0.1)\n",
            "Requirement already satisfied: six>=1.10.0 in /usr/local/lib/python3.6/dist-packages (from tensorflow==2.0.0) (1.12.0)\n",
            "Requirement already satisfied: grpcio>=1.8.6 in /usr/local/lib/python3.6/dist-packages (from tensorflow==2.0.0) (1.24.3)\n",
            "Requirement already satisfied: wheel>=0.26 in /usr/local/lib/python3.6/dist-packages (from tensorflow==2.0.0) (0.34.2)\n",
            "Requirement already satisfied: keras-preprocessing>=1.0.5 in /usr/local/lib/python3.6/dist-packages (from tensorflow==2.0.0) (1.1.0)\n",
            "Requirement already satisfied: termcolor>=1.1.0 in /usr/local/lib/python3.6/dist-packages (from tensorflow==2.0.0) (1.1.0)\n",
            "Requirement already satisfied: tensorboard<2.1.0,>=2.0.0 in /usr/local/lib/python3.6/dist-packages (from tensorflow==2.0.0) (2.0.2)\n",
            "Requirement already satisfied: absl-py>=0.7.0 in /usr/local/lib/python3.6/dist-packages (from tensorflow==2.0.0) (0.9.0)\n",
            "Requirement already satisfied: protobuf>=3.6.1 in /usr/local/lib/python3.6/dist-packages (from tensorflow==2.0.0) (3.10.0)\n",
            "Requirement already satisfied: astor>=0.6.0 in /usr/local/lib/python3.6/dist-packages (from tensorflow==2.0.0) (0.8.1)\n",
            "Requirement already satisfied: keras-applications>=1.0.8 in /usr/local/lib/python3.6/dist-packages (from tensorflow==2.0.0) (1.0.8)\n",
            "Requirement already satisfied: google-pasta>=0.1.6 in /usr/local/lib/python3.6/dist-packages (from tensorflow==2.0.0) (0.2.0)\n",
            "Requirement already satisfied: opt-einsum>=2.3.2 in /usr/local/lib/python3.6/dist-packages (from tensorflow==2.0.0) (3.2.0)\n",
            "Requirement already satisfied: gast==0.2.2 in /usr/local/lib/python3.6/dist-packages (from tensorflow==2.0.0) (0.2.2)\n",
            "Requirement already satisfied: numpy<2.0,>=1.16.0 in /usr/local/lib/python3.6/dist-packages (from tensorflow==2.0.0) (1.18.2)\n",
            "Requirement already satisfied: google-auth-oauthlib<0.5,>=0.4.1 in /usr/local/lib/python3.6/dist-packages (from tensorboard<2.1.0,>=2.0.0->tensorflow==2.0.0) (0.4.1)\n",
            "Requirement already satisfied: markdown>=2.6.8 in /usr/local/lib/python3.6/dist-packages (from tensorboard<2.1.0,>=2.0.0->tensorflow==2.0.0) (3.2.1)\n",
            "Requirement already satisfied: werkzeug>=0.11.15 in /usr/local/lib/python3.6/dist-packages (from tensorboard<2.1.0,>=2.0.0->tensorflow==2.0.0) (1.0.0)\n",
            "Requirement already satisfied: requests<3,>=2.21.0 in /usr/local/lib/python3.6/dist-packages (from tensorboard<2.1.0,>=2.0.0->tensorflow==2.0.0) (2.21.0)\n",
            "Requirement already satisfied: google-auth<2,>=1.6.3 in /usr/local/lib/python3.6/dist-packages (from tensorboard<2.1.0,>=2.0.0->tensorflow==2.0.0) (1.7.2)\n",
            "Requirement already satisfied: setuptools>=41.0.0 in /usr/local/lib/python3.6/dist-packages (from tensorboard<2.1.0,>=2.0.0->tensorflow==2.0.0) (46.1.3)\n",
            "Requirement already satisfied: h5py in /usr/local/lib/python3.6/dist-packages (from keras-applications>=1.0.8->tensorflow==2.0.0) (2.8.0)\n",
            "Requirement already satisfied: requests-oauthlib>=0.7.0 in /usr/local/lib/python3.6/dist-packages (from google-auth-oauthlib<0.5,>=0.4.1->tensorboard<2.1.0,>=2.0.0->tensorflow==2.0.0) (1.3.0)\n",
            "Requirement already satisfied: idna<2.9,>=2.5 in /usr/local/lib/python3.6/dist-packages (from requests<3,>=2.21.0->tensorboard<2.1.0,>=2.0.0->tensorflow==2.0.0) (2.8)\n",
            "Requirement already satisfied: urllib3<1.25,>=1.21.1 in /usr/local/lib/python3.6/dist-packages (from requests<3,>=2.21.0->tensorboard<2.1.0,>=2.0.0->tensorflow==2.0.0) (1.24.3)\n",
            "Requirement already satisfied: certifi>=2017.4.17 in /usr/local/lib/python3.6/dist-packages (from requests<3,>=2.21.0->tensorboard<2.1.0,>=2.0.0->tensorflow==2.0.0) (2019.11.28)\n",
            "Requirement already satisfied: chardet<3.1.0,>=3.0.2 in /usr/local/lib/python3.6/dist-packages (from requests<3,>=2.21.0->tensorboard<2.1.0,>=2.0.0->tensorflow==2.0.0) (3.0.4)\n",
            "Requirement already satisfied: pyasn1-modules>=0.2.1 in /usr/local/lib/python3.6/dist-packages (from google-auth<2,>=1.6.3->tensorboard<2.1.0,>=2.0.0->tensorflow==2.0.0) (0.2.8)\n",
            "Requirement already satisfied: rsa<4.1,>=3.1.4 in /usr/local/lib/python3.6/dist-packages (from google-auth<2,>=1.6.3->tensorboard<2.1.0,>=2.0.0->tensorflow==2.0.0) (4.0)\n",
            "Requirement already satisfied: cachetools<3.2,>=2.0.0 in /usr/local/lib/python3.6/dist-packages (from google-auth<2,>=1.6.3->tensorboard<2.1.0,>=2.0.0->tensorflow==2.0.0) (3.1.1)\n",
            "Requirement already satisfied: oauthlib>=3.0.0 in /usr/local/lib/python3.6/dist-packages (from requests-oauthlib>=0.7.0->google-auth-oauthlib<0.5,>=0.4.1->tensorboard<2.1.0,>=2.0.0->tensorflow==2.0.0) (3.1.0)\n",
            "Requirement already satisfied: pyasn1<0.5.0,>=0.4.6 in /usr/local/lib/python3.6/dist-packages (from pyasn1-modules>=0.2.1->google-auth<2,>=1.6.3->tensorboard<2.1.0,>=2.0.0->tensorflow==2.0.0) (0.4.8)\n"
          ],
          "name": "stdout"
        }
      ]
    },
    {
      "cell_type": "code",
      "metadata": {
        "id": "uL5F8Ntii7pI",
        "colab_type": "code",
        "outputId": "59a3535c-1293-41fc-c380-c4fe88fe075c",
        "colab": {
          "base_uri": "https://localhost:8080/",
          "height": 989
        }
      },
      "source": [
        "!pip install gym pyvirtualdisplay\n",
        "!apt-get install -y xvfb python-opengl ffmpeg\n",
        "\n",
        "!apt-get update\n",
        "!apt-get install cmake\n",
        "!pip install --upgrade setuptools\n",
        "!pip install ez_setup\n",
        "!pip install gym[atari]\n",
        "\n",
        "!pip install box2d-py\n",
        "!pip install gym[Box_2D]"
      ],
      "execution_count": 0,
      "outputs": [
        {
          "output_type": "stream",
          "text": [
            "Requirement already satisfied: gym in /usr/local/lib/python3.6/dist-packages (0.17.1)\n",
            "Requirement already satisfied: pyvirtualdisplay in /usr/local/lib/python3.6/dist-packages (0.2.5)\n",
            "Requirement already satisfied: six in /usr/local/lib/python3.6/dist-packages (from gym) (1.12.0)\n",
            "Requirement already satisfied: pyglet<=1.5.0,>=1.4.0 in /usr/local/lib/python3.6/dist-packages (from gym) (1.4.0)\n",
            "Requirement already satisfied: scipy in /usr/local/lib/python3.6/dist-packages (from gym) (1.4.1)\n",
            "Requirement already satisfied: cloudpickle<1.4.0,>=1.2.0 in /usr/local/lib/python3.6/dist-packages (from gym) (1.3.0)\n",
            "Requirement already satisfied: numpy>=1.10.4 in /usr/local/lib/python3.6/dist-packages (from gym) (1.18.2)\n",
            "Requirement already satisfied: EasyProcess in /usr/local/lib/python3.6/dist-packages (from pyvirtualdisplay) (0.2.10)\n",
            "Requirement already satisfied: future in /usr/local/lib/python3.6/dist-packages (from pyglet<=1.5.0,>=1.4.0->gym) (0.16.0)\n",
            "Reading package lists... Done\n",
            "Building dependency tree       \n",
            "Reading state information... Done\n",
            "python-opengl is already the newest version (3.1.0+dfsg-1).\n",
            "ffmpeg is already the newest version (7:3.4.6-0ubuntu0.18.04.1).\n",
            "xvfb is already the newest version (2:1.19.6-1ubuntu4.4).\n",
            "0 upgraded, 0 newly installed, 0 to remove and 37 not upgraded.\n",
            "Hit:1 https://cloud.r-project.org/bin/linux/ubuntu bionic-cran35/ InRelease\n",
            "Ign:2 https://developer.download.nvidia.com/compute/cuda/repos/ubuntu1804/x86_64  InRelease\n",
            "Ign:3 https://developer.download.nvidia.com/compute/machine-learning/repos/ubuntu1804/x86_64  InRelease\n",
            "Hit:4 https://developer.download.nvidia.com/compute/cuda/repos/ubuntu1804/x86_64  Release\n",
            "Hit:5 https://developer.download.nvidia.com/compute/machine-learning/repos/ubuntu1804/x86_64  Release\n",
            "Hit:6 http://security.ubuntu.com/ubuntu bionic-security InRelease\n",
            "Hit:8 http://archive.ubuntu.com/ubuntu bionic InRelease\n",
            "Hit:10 http://ppa.launchpad.net/graphics-drivers/ppa/ubuntu bionic InRelease\n",
            "Hit:11 http://archive.ubuntu.com/ubuntu bionic-updates InRelease\n",
            "Hit:12 http://archive.ubuntu.com/ubuntu bionic-backports InRelease\n",
            "Hit:13 http://ppa.launchpad.net/marutter/c2d4u3.5/ubuntu bionic InRelease\n",
            "Reading package lists... Done\n",
            "Reading package lists... Done\n",
            "Building dependency tree       \n",
            "Reading state information... Done\n",
            "cmake is already the newest version (3.10.2-1ubuntu2.18.04.1).\n",
            "0 upgraded, 0 newly installed, 0 to remove and 37 not upgraded.\n",
            "Requirement already up-to-date: setuptools in /usr/local/lib/python3.6/dist-packages (46.1.3)\n",
            "Requirement already satisfied: ez_setup in /usr/local/lib/python3.6/dist-packages (0.9)\n",
            "Requirement already satisfied: gym[atari] in /usr/local/lib/python3.6/dist-packages (0.17.1)\n",
            "Requirement already satisfied: numpy>=1.10.4 in /usr/local/lib/python3.6/dist-packages (from gym[atari]) (1.18.2)\n",
            "Requirement already satisfied: scipy in /usr/local/lib/python3.6/dist-packages (from gym[atari]) (1.4.1)\n",
            "Requirement already satisfied: six in /usr/local/lib/python3.6/dist-packages (from gym[atari]) (1.12.0)\n",
            "Requirement already satisfied: pyglet<=1.5.0,>=1.4.0 in /usr/local/lib/python3.6/dist-packages (from gym[atari]) (1.4.0)\n",
            "Requirement already satisfied: cloudpickle<1.4.0,>=1.2.0 in /usr/local/lib/python3.6/dist-packages (from gym[atari]) (1.3.0)\n",
            "Requirement already satisfied: atari-py~=0.2.0; extra == \"atari\" in /usr/local/lib/python3.6/dist-packages (from gym[atari]) (0.2.6)\n",
            "Requirement already satisfied: Pillow; extra == \"atari\" in /usr/local/lib/python3.6/dist-packages (from gym[atari]) (7.0.0)\n",
            "Requirement already satisfied: opencv-python; extra == \"atari\" in /usr/local/lib/python3.6/dist-packages (from gym[atari]) (4.1.2.30)\n",
            "Requirement already satisfied: future in /usr/local/lib/python3.6/dist-packages (from pyglet<=1.5.0,>=1.4.0->gym[atari]) (0.16.0)\n",
            "Requirement already satisfied: box2d-py in /usr/local/lib/python3.6/dist-packages (2.3.8)\n",
            "Requirement already satisfied: gym[Box_2D] in /usr/local/lib/python3.6/dist-packages (0.17.1)\n",
            "\u001b[33m  WARNING: gym 0.17.1 does not provide the extra 'box_2d'\u001b[0m\n",
            "Requirement already satisfied: cloudpickle<1.4.0,>=1.2.0 in /usr/local/lib/python3.6/dist-packages (from gym[Box_2D]) (1.3.0)\n",
            "Requirement already satisfied: six in /usr/local/lib/python3.6/dist-packages (from gym[Box_2D]) (1.12.0)\n",
            "Requirement already satisfied: scipy in /usr/local/lib/python3.6/dist-packages (from gym[Box_2D]) (1.4.1)\n",
            "Requirement already satisfied: numpy>=1.10.4 in /usr/local/lib/python3.6/dist-packages (from gym[Box_2D]) (1.18.2)\n",
            "Requirement already satisfied: pyglet<=1.5.0,>=1.4.0 in /usr/local/lib/python3.6/dist-packages (from gym[Box_2D]) (1.4.0)\n",
            "Requirement already satisfied: future in /usr/local/lib/python3.6/dist-packages (from pyglet<=1.5.0,>=1.4.0->gym[Box_2D]) (0.16.0)\n"
          ],
          "name": "stdout"
        }
      ]
    },
    {
      "cell_type": "code",
      "metadata": {
        "id": "OCX0gCI4jAFs",
        "colab_type": "code",
        "outputId": "7fdd2e74-83eb-4a85-fe3f-24ebfaa100e9",
        "colab": {
          "base_uri": "https://localhost:8080/",
          "height": 308
        }
      },
      "source": [
        "!pip install pyglet==1.3.2"
      ],
      "execution_count": 0,
      "outputs": [
        {
          "output_type": "stream",
          "text": [
            "Collecting pyglet==1.3.2\n",
            "\u001b[?25l  Downloading https://files.pythonhosted.org/packages/1c/fc/dad5eaaab68f0c21e2f906a94ddb98175662cc5a654eee404d59554ce0fa/pyglet-1.3.2-py2.py3-none-any.whl (1.0MB)\n",
            "\u001b[K     |████████████████████████████████| 1.0MB 2.7MB/s \n",
            "\u001b[?25hRequirement already satisfied: future in /usr/local/lib/python3.6/dist-packages (from pyglet==1.3.2) (0.16.0)\n",
            "\u001b[31mERROR: gym 0.17.1 has requirement pyglet<=1.5.0,>=1.4.0, but you'll have pyglet 1.3.2 which is incompatible.\u001b[0m\n",
            "Installing collected packages: pyglet\n",
            "  Found existing installation: pyglet 1.4.0\n",
            "    Uninstalling pyglet-1.4.0:\n",
            "      Successfully uninstalled pyglet-1.4.0\n",
            "Successfully installed pyglet-1.3.2\n"
          ],
          "name": "stdout"
        },
        {
          "output_type": "display_data",
          "data": {
            "application/vnd.colab-display-data+json": {
              "pip_warning": {
                "packages": [
                  "pyglet"
                ]
              }
            }
          },
          "metadata": {
            "tags": []
          }
        }
      ]
    },
    {
      "cell_type": "markdown",
      "metadata": {
        "id": "Cv2cx5eSjBKt",
        "colab_type": "text"
      },
      "source": [
        "# 10.1 신경망으로 경험 학습하기"
      ]
    },
    {
      "cell_type": "markdown",
      "metadata": {
        "id": "Vfel4vRijuon",
        "colab_type": "text"
      },
      "source": [
        "강화학습의 환경으로 사용할 Gym에 대해서 알아보자.\n",
        "\n",
        "Gym의 구조는 강화학습에서 요구하는 표준적인 구조이다. 일단 문제가 주어진 환경(environment)이 있고 강화학습 문제를 풀기위한 에이전트가 존재한다."
      ]
    },
    {
      "cell_type": "markdown",
      "metadata": {
        "id": "hEd3j4jg9Hmc",
        "colab_type": "text"
      },
      "source": [
        "s"
      ]
    },
    {
      "cell_type": "markdown",
      "metadata": {
        "id": "wbAjn7j1jyov",
        "colab_type": "text"
      },
      "source": [
        "#### 에이전트란?\n",
        "행동(action)으로 환경에 영향을 주고 그 결과에 따라 보상(reward)을 받는다. 좋은 보상을 받으면 에이전트는 그 행동을 더 많이 하게 되고 나쁜 보상을 받으면 그 행동을 덜 하도록 학습하는 것이 강화학습의 기본이다."
      ]
    },
    {
      "cell_type": "markdown",
      "metadata": {
        "id": "_e7PYgVPj1Tx",
        "colab_type": "text"
      },
      "source": [
        "- #### 강화학습의 목적 : 행동의 결과로 주어지는 보상을 극대화 하는데 목적 \n",
        "- Gym의 MountainCar-v10 : 두 바퀴가 달린 차(에이전트)로 언덕(환경)을 올라가는 문제\n",
        "  이때 보상은 각 시간 단위(time step)마다 -1이 주어지고 오른쪽 깃발에 도달하면 하나의 에피소드(episode)가 끝난다.\n",
        "  즉, 보상은 음수로 주어지며 에피소드를 빨리 끝낼수록 한 에피소드에 얻는 보상의 총합이 커지기 때문에 가장 짧은 시간에 언덕을 올라야 한다."
      ]
    },
    {
      "cell_type": "markdown",
      "metadata": {
        "id": "fC6r2Z0oj3zb",
        "colab_type": "text"
      },
      "source": [
        "#### 이 환경에서 에이전트가 취할 수 있는 행동\n",
        "- 왼쪽으로 이동\n",
        "- 정지\n",
        "- 오른쪽으로 이동 \n",
        "  : 오른쪽으로 이동하는 행동은 가파른 언덕을 올라갈 만큼의 충분한 힘을 못받아 이 행동만으로 언덕을 올라갈 수 없다.\n",
        "  즉, 왼족과 오른쪽을 반복해서 움직이며 가속도를 붙인 다음 언덕에 올라갈 수 있다."
      ]
    },
    {
      "cell_type": "code",
      "metadata": {
        "id": "6ia35n1gjG0w",
        "colab_type": "code",
        "colab": {}
      },
      "source": [
        "# MountainCar-v0 환경 만들기\n",
        "import gym\n",
        "import random\n",
        "env = gym.make('MountainCar-v0')"
      ],
      "execution_count": 0,
      "outputs": []
    },
    {
      "cell_type": "code",
      "metadata": {
        "id": "nh3cu-2djOG5",
        "colab_type": "code",
        "outputId": "c89d4dae-7e24-4a6f-80ec-6c4c5621484c",
        "colab": {
          "base_uri": "https://localhost:8080/",
          "height": 143
        }
      },
      "source": [
        "# 환경의 관찰 공간, 행동 공간 변수 확인\n",
        "print(env.observation_space)\n",
        "print(env.observation_space.low)\n",
        "print(env.observation_space.high)\n",
        "print()\n",
        "print(env.action_space)\n",
        "print()\n",
        "print(env._max_episode_steps)"
      ],
      "execution_count": 0,
      "outputs": [
        {
          "output_type": "stream",
          "text": [
            "Box(2,)\n",
            "[-1.2  -0.07]\n",
            "[0.6  0.07]\n",
            "\n",
            "Discrete(3)\n",
            "\n",
            "200\n"
          ],
          "name": "stdout"
        }
      ]
    },
    {
      "cell_type": "markdown",
      "metadata": {
        "id": "_QRAZHCVj69b",
        "colab_type": "text"
      },
      "source": [
        "- #### observation space란? \n",
        "  : 에이전트가 환경을 볼 수 있는 작은 창이다. 에이전트는 이 창을 통해서 환경의 정보를 파악할 수 있기 때문에 관찰 공간에 대한 정보는 모든 환경에서 최우선적으로 파악해야 한다.\n",
        "- #### Box 란?\n",
        "  : 최댓값과 최솟값을 가지는 범위 값이라는 의미이고 여기서 env.observation_space.low 와 high는 각각 최솟값과 최댓값을 의미한다.\n",
        "- low와 high의 첫번째 숫자는 차(에이전트)의 X축 좌표이고 두번째 숫자는 차의 속도이다. \n",
        "  속도가 음수이면 왼쪽\n",
        "  속도가 양수이면 오른쪽으로 이동\n",
        "- #### action space란?\n",
        "  에이전트가 취할 수 있는 행동의 경우의 수\n",
        "  이번 문제의 경우 : 왼쪽, 오른쪽, 정지 3가지의 경우의 수\n",
        "- #### env._max_episode_steps란?\n",
        "  최대 시간 단위의 제한을 두어 에피소드가 무한히 반복하는 것을 방지\n",
        "  \n",
        "  \n",
        "- #### 정리를 해보면->\n",
        "  X좌표 범위는 -1.2에서 0.6까지 움직이고 최대 속도는 0.07, 최소 속도는 -0.07이다. action을 취할 수 있는 경우의 수는 3번이고 최대 시간 단위는 200으로 200이 되면 종료가 된다."
      ]
    },
    {
      "cell_type": "code",
      "metadata": {
        "id": "HlneAlwtjRiY",
        "colab_type": "code",
        "outputId": "58e810ff-5349-4a7a-995b-d04c68ada02b",
        "colab": {
          "base_uri": "https://localhost:8080/",
          "height": 1000
        }
      },
      "source": [
        "# 랜덤한 행동을 하는 에이전트 실행\n",
        "step = 0\n",
        "score = 0\n",
        "env.reset()\n",
        "\n",
        "while True:\n",
        "    action = env.action_space.sample()\n",
        "    obs, reward, done, info = env.step(action)\n",
        "    print(score)\n",
        "    score += reward\n",
        "    step += 1\n",
        "    \n",
        "    if done:\n",
        "        break\n",
        "\n",
        "print('score:', score)\n",
        "print('step:', step)"
      ],
      "execution_count": 0,
      "outputs": [
        {
          "output_type": "stream",
          "text": [
            "0\n",
            "-1.0\n",
            "-2.0\n",
            "-3.0\n",
            "-4.0\n",
            "-5.0\n",
            "-6.0\n",
            "-7.0\n",
            "-8.0\n",
            "-9.0\n",
            "-10.0\n",
            "-11.0\n",
            "-12.0\n",
            "-13.0\n",
            "-14.0\n",
            "-15.0\n",
            "-16.0\n",
            "-17.0\n",
            "-18.0\n",
            "-19.0\n",
            "-20.0\n",
            "-21.0\n",
            "-22.0\n",
            "-23.0\n",
            "-24.0\n",
            "-25.0\n",
            "-26.0\n",
            "-27.0\n",
            "-28.0\n",
            "-29.0\n",
            "-30.0\n",
            "-31.0\n",
            "-32.0\n",
            "-33.0\n",
            "-34.0\n",
            "-35.0\n",
            "-36.0\n",
            "-37.0\n",
            "-38.0\n",
            "-39.0\n",
            "-40.0\n",
            "-41.0\n",
            "-42.0\n",
            "-43.0\n",
            "-44.0\n",
            "-45.0\n",
            "-46.0\n",
            "-47.0\n",
            "-48.0\n",
            "-49.0\n",
            "-50.0\n",
            "-51.0\n",
            "-52.0\n",
            "-53.0\n",
            "-54.0\n",
            "-55.0\n",
            "-56.0\n",
            "-57.0\n",
            "-58.0\n",
            "-59.0\n",
            "-60.0\n",
            "-61.0\n",
            "-62.0\n",
            "-63.0\n",
            "-64.0\n",
            "-65.0\n",
            "-66.0\n",
            "-67.0\n",
            "-68.0\n",
            "-69.0\n",
            "-70.0\n",
            "-71.0\n",
            "-72.0\n",
            "-73.0\n",
            "-74.0\n",
            "-75.0\n",
            "-76.0\n",
            "-77.0\n",
            "-78.0\n",
            "-79.0\n",
            "-80.0\n",
            "-81.0\n",
            "-82.0\n",
            "-83.0\n",
            "-84.0\n",
            "-85.0\n",
            "-86.0\n",
            "-87.0\n",
            "-88.0\n",
            "-89.0\n",
            "-90.0\n",
            "-91.0\n",
            "-92.0\n",
            "-93.0\n",
            "-94.0\n",
            "-95.0\n",
            "-96.0\n",
            "-97.0\n",
            "-98.0\n",
            "-99.0\n",
            "-100.0\n",
            "-101.0\n",
            "-102.0\n",
            "-103.0\n",
            "-104.0\n",
            "-105.0\n",
            "-106.0\n",
            "-107.0\n",
            "-108.0\n",
            "-109.0\n",
            "-110.0\n",
            "-111.0\n",
            "-112.0\n",
            "-113.0\n",
            "-114.0\n",
            "-115.0\n",
            "-116.0\n",
            "-117.0\n",
            "-118.0\n",
            "-119.0\n",
            "-120.0\n",
            "-121.0\n",
            "-122.0\n",
            "-123.0\n",
            "-124.0\n",
            "-125.0\n",
            "-126.0\n",
            "-127.0\n",
            "-128.0\n",
            "-129.0\n",
            "-130.0\n",
            "-131.0\n",
            "-132.0\n",
            "-133.0\n",
            "-134.0\n",
            "-135.0\n",
            "-136.0\n",
            "-137.0\n",
            "-138.0\n",
            "-139.0\n",
            "-140.0\n",
            "-141.0\n",
            "-142.0\n",
            "-143.0\n",
            "-144.0\n",
            "-145.0\n",
            "-146.0\n",
            "-147.0\n",
            "-148.0\n",
            "-149.0\n",
            "-150.0\n",
            "-151.0\n",
            "-152.0\n",
            "-153.0\n",
            "-154.0\n",
            "-155.0\n",
            "-156.0\n",
            "-157.0\n",
            "-158.0\n",
            "-159.0\n",
            "-160.0\n",
            "-161.0\n",
            "-162.0\n",
            "-163.0\n",
            "-164.0\n",
            "-165.0\n",
            "-166.0\n",
            "-167.0\n",
            "-168.0\n",
            "-169.0\n",
            "-170.0\n",
            "-171.0\n",
            "-172.0\n",
            "-173.0\n",
            "-174.0\n",
            "-175.0\n",
            "-176.0\n",
            "-177.0\n",
            "-178.0\n",
            "-179.0\n",
            "-180.0\n",
            "-181.0\n",
            "-182.0\n",
            "-183.0\n",
            "-184.0\n",
            "-185.0\n",
            "-186.0\n",
            "-187.0\n",
            "-188.0\n",
            "-189.0\n",
            "-190.0\n",
            "-191.0\n",
            "-192.0\n",
            "-193.0\n",
            "-194.0\n",
            "-195.0\n",
            "-196.0\n",
            "-197.0\n",
            "-198.0\n",
            "-199.0\n",
            "score: -200.0\n",
            "step: 200\n"
          ],
          "name": "stdout"
        }
      ]
    },
    {
      "cell_type": "markdown",
      "metadata": {
        "id": "KJXtla_FkB7E",
        "colab_type": "text"
      },
      "source": [
        "출력에서 매 step 마다 score가 -1 씩 더해지며 출력된고 마지막 score는 -200, step은 200으로 표시되었다.\n",
        "\n",
        "\n"
      ]
    },
    {
      "cell_type": "code",
      "metadata": {
        "id": "6fF4DBcyjYSS",
        "colab_type": "code",
        "outputId": "9d606d60-2842-44d0-cb46-6e0aaf384edf",
        "colab": {
          "base_uri": "https://localhost:8080/",
          "height": 73
        }
      },
      "source": [
        "# env.render() 함수의 결과를 mp4 동영상으로 보여주기 위한 코드\n",
        "# from https://colab.research.google.com/drive/1flu31ulJlgiRL1dnN2ir8wGh9p7Zij2t\n",
        "from gym import logger as gymlogger\n",
        "from gym.wrappers import Monitor\n",
        "gymlogger.set_level(40) #error only\n",
        "import glob\n",
        "import io\n",
        "import base64\n",
        "from IPython.display import HTML\n",
        "from IPython import display as ipythondisplay\n",
        "\n",
        "\"\"\"\n",
        "Utility functions to enable video recording of gym environment and displaying it\n",
        "To enable video, just do \"env = wrap_env(env)\"\"\n",
        "\"\"\"\n",
        "\n",
        "def show_video():\n",
        "    mp4list = glob.glob('video/*.mp4')\n",
        "    if len(mp4list) > 0:\n",
        "        mp4 = mp4list[0]\n",
        "        video = io.open(mp4, 'r+b').read()\n",
        "        encoded = base64.b64encode(video)\n",
        "        ipythondisplay.display(HTML(data='''<video alt=\"test\" autoplay \n",
        "                loop controls style=\"height: 400px;\">\n",
        "                <source src=\"data:video/mp4;base64,{0}\" type=\"video/mp4\" />\n",
        "             </video>'''.format(encoded.decode('ascii'))))\n",
        "    else: \n",
        "        print(\"Could not find video\")\n",
        "    \n",
        "\n",
        "def wrap_env(env):\n",
        "    env = Monitor(env, './video', force=True)\n",
        "    return env\n",
        "  \n",
        "from pyvirtualdisplay import Display\n",
        "display = Display(visible=0, size=(1400, 900))\n",
        "display.start()"
      ],
      "execution_count": 0,
      "outputs": [
        {
          "output_type": "stream",
          "text": [
            "xdpyinfo was not found, X start can not be checked! Please install xdpyinfo!\n"
          ],
          "name": "stderr"
        },
        {
          "output_type": "execute_result",
          "data": {
            "text/plain": [
              "<Display cmd_param=['Xvfb', '-br', '-nolisten', 'tcp', '-screen', '0', '1400x900x24', ':1009'] cmd=['Xvfb', '-br', '-nolisten', 'tcp', '-screen', '0', '1400x900x24', ':1009'] oserror=None return_code=None stdout=\"None\" stderr=\"None\" timeout_happened=False>"
            ]
          },
          "metadata": {
            "tags": []
          },
          "execution_count": 24
        }
      ]
    },
    {
      "cell_type": "code",
      "metadata": {
        "id": "aYX0NMbmkSzY",
        "colab_type": "code",
        "outputId": "f5091ed1-49f4-434f-c38c-99d9f785f6ae",
        "colab": {
          "base_uri": "https://localhost:8080/",
          "height": 456
        }
      },
      "source": [
        "# 랜덤 행동 에이전트의 환경 실행 결과 확인\n",
        "env = wrap_env(gym.make('MountainCar-v0'))\n",
        "env.reset()\n",
        "\n",
        "score = 0\n",
        "step = 0\n",
        "while True:\n",
        "    action = env.action_space.sample()\n",
        "    obs, reward, done, info = env.step(action)\n",
        "    score += reward\n",
        "    step += 1\n",
        "    \n",
        "    if done:\n",
        "        break\n",
        "\n",
        "print('score:', score)\n",
        "print('step:', step)\n",
        "env.close()\n",
        "show_video()"
      ],
      "execution_count": 0,
      "outputs": [
        {
          "output_type": "stream",
          "text": [
            "score: -200.0\n",
            "step: 200\n"
          ],
          "name": "stdout"
        },
        {
          "output_type": "display_data",
          "data": {
            "text/html": [
              "<video alt=\"test\" autoplay \n",
              "                loop controls style=\"height: 400px;\">\n",
              "                <source src=\"data:video/mp4;base64,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\" type=\"video/mp4\" />\n",
              "             </video>"
            ],
            "text/plain": [
              "<IPython.core.display.HTML object>"
            ]
          },
          "metadata": {
            "tags": []
          }
        }
      ]
    },
    {
      "cell_type": "code",
      "metadata": {
        "id": "vvBgoqRkk28E",
        "colab_type": "code",
        "outputId": "fd6454bf-875c-46ea-8c22-d59e96176534",
        "colab": {
          "base_uri": "https://localhost:8080/",
          "height": 1000
        }
      },
      "source": [
        "# 성공적인 에피소드 저장\n",
        "env = gym.make('MountainCar-v0')\n",
        "\n",
        "scores = []\n",
        "training_data = []\n",
        "accepted_scores = []\n",
        "required_score = -198\n",
        "\n",
        "for i in range(10000):\n",
        "    if i % 100 == 0:\n",
        "        print(i)\n",
        "    env.reset()\n",
        "    score = 0\n",
        "    game_memory = []\n",
        "    previous_obs = []\n",
        "    \n",
        "    while True:\n",
        "        action = env.action_space.sample()\n",
        "        obs, reward, done, info = env.step(action)\n",
        "        \n",
        "        if len(previous_obs) > 0:\n",
        "            game_memory.append([previous_obs, action])\n",
        "        \n",
        "        previous_obs = obs\n",
        "        if obs[0] > -0.2:\n",
        "            reward = 1\n",
        "        \n",
        "        score += reward\n",
        "        \n",
        "        if done:\n",
        "            break\n",
        "        \n",
        "    scores.append(score)\n",
        "    if score > required_score:\n",
        "        accepted_scores.append(score)\n",
        "        for data in game_memory:\n",
        "            training_data.append(data)\n",
        "\n",
        "scores = np.array(scores)\n",
        "print(scores.mean())\n",
        "print(accepted_scores)\n",
        "\n",
        "import seaborn as sns\n",
        "sns.distplot(scores, rug=True)"
      ],
      "execution_count": 0,
      "outputs": [
        {
          "output_type": "stream",
          "text": [
            "0\n",
            "100\n",
            "200\n",
            "300\n",
            "400\n",
            "500\n",
            "600\n",
            "700\n",
            "800\n",
            "900\n",
            "1000\n",
            "1100\n",
            "1200\n",
            "1300\n",
            "1400\n",
            "1500\n",
            "1600\n",
            "1700\n",
            "1800\n",
            "1900\n",
            "2000\n",
            "2100\n",
            "2200\n",
            "2300\n",
            "2400\n",
            "2500\n",
            "2600\n",
            "2700\n",
            "2800\n",
            "2900\n",
            "3000\n",
            "3100\n",
            "3200\n",
            "3300\n",
            "3400\n",
            "3500\n",
            "3600\n",
            "3700\n",
            "3800\n",
            "3900\n",
            "4000\n",
            "4100\n",
            "4200\n",
            "4300\n",
            "4400\n",
            "4500\n",
            "4600\n",
            "4700\n",
            "4800\n",
            "4900\n",
            "5000\n",
            "5100\n",
            "5200\n",
            "5300\n",
            "5400\n",
            "5500\n",
            "5600\n",
            "5700\n",
            "5800\n",
            "5900\n",
            "6000\n",
            "6100\n",
            "6200\n",
            "6300\n",
            "6400\n",
            "6500\n",
            "6600\n",
            "6700\n",
            "6800\n",
            "6900\n",
            "7000\n",
            "7100\n",
            "7200\n",
            "7300\n",
            "7400\n",
            "7500\n",
            "7600\n",
            "7700\n",
            "7800\n",
            "7900\n",
            "8000\n",
            "8100\n",
            "8200\n",
            "8300\n",
            "8400\n",
            "8500\n",
            "8600\n",
            "8700\n",
            "8800\n",
            "8900\n",
            "9000\n",
            "9100\n",
            "9200\n",
            "9300\n",
            "9400\n",
            "9500\n",
            "9600\n",
            "9700\n",
            "9800\n",
            "9900\n",
            "-199.9128\n",
            "[-188.0, -186.0, -192.0, -180.0, -192.0, -184.0, -190.0, -184.0, -174.0, -180.0, -180.0, -172.0, -188.0, -186.0, -182.0, -184.0, -186.0, -182.0, -186.0, -186.0, -186.0, -188.0, -192.0, -174.0, -194.0, -188.0, -184.0, -186.0, -184.0, -182.0, -186.0, -188.0, -190.0, -180.0, -176.0, -174.0, -194.0, -194.0, -166.0, -194.0, -186.0, -196.0, -174.0, -190.0, -174.0, -180.0, -172.0, -184.0, -164.0, -186.0, -182.0, -182.0, -176.0]\n"
          ],
          "name": "stdout"
        },
        {
          "output_type": "execute_result",
          "data": {
            "text/plain": [
              "<matplotlib.axes._subplots.AxesSubplot at 0x7fe9b8aeb0b8>"
            ]
          },
          "metadata": {
            "tags": []
          },
          "execution_count": 26
        },
        {
          "output_type": "display_data",
          "data": {
            "image/png": "[encoded data removed]",
            "text/plain": [
              "<Figure size 432x288 with 1 Axes>"
            ]
          },
          "metadata": {
            "tags": []
          }
        }
      ]
    },
    {
      "cell_type": "code",
      "metadata": {
        "id": "y1nYedkWmM0H",
        "colab_type": "code",
        "outputId": "ee121f97-1446-443c-c1a2-ebd030c99289",
        "colab": {
          "base_uri": "https://localhost:8080/",
          "height": 107
        }
      },
      "source": [
        "# training_data 확인\n",
        "training_data[:5]"
      ],
      "execution_count": 0,
      "outputs": [
        {
          "output_type": "execute_result",
          "data": {
            "text/plain": [
              "[[array([-0.41089066, -0.0008352 ]), 0],\n",
              " [array([-0.41355516, -0.0026645 ]), 2],\n",
              " [array([-0.41603007, -0.00247491]), 1],\n",
              " [array([-0.41929782, -0.00326775]), 1],\n",
              " [array([-0.42333513, -0.0040373 ]), 2]]"
            ]
          },
          "metadata": {
            "tags": []
          },
          "execution_count": 27
        }
      ]
    },
    {
      "cell_type": "code",
      "metadata": {
        "id": "dmCxnsNTmivO",
        "colab_type": "code",
        "outputId": "62c5f028-3db9-4075-e1c8-59ab3056540a",
        "colab": {
          "base_uri": "https://localhost:8080/",
          "height": 53
        }
      },
      "source": [
        "# 훈련 데이터 만들기\n",
        "train_X = np.array([i[0] for i in training_data]).reshape(-1, 2)\n",
        "train_Y = np.array([i[1] for i in training_data]).reshape(-1, 1)\n",
        "print(train_X.shape)\n",
        "print(train_Y.shape)"
      ],
      "execution_count": 0,
      "outputs": [
        {
          "output_type": "stream",
          "text": [
            "(10547, 2)\n",
            "(10547, 1)\n"
          ],
          "name": "stdout"
        }
      ]
    },
    {
      "cell_type": "code",
      "metadata": {
        "id": "qzqUb5rbm_q3",
        "colab_type": "code",
        "colab": {}
      },
      "source": [
        "# 분류 신경망 정의\n",
        "model = tf.keras.Sequential([\n",
        "    tf.keras.layers.Dense(128, input_shape=(2,), activation='relu'),\n",
        "    tf.keras.layers.Dense(32, activation='relu'),\n",
        "    tf.keras.layers.Dense(3, activation='softmax')\n",
        "])\n",
        "model.compile(optimizer=tf.optimizers.Adam(), loss='sparse_categorical_crossentropy', metrics=['accuracy'])"
      ],
      "execution_count": 0,
      "outputs": []
    },
    {
      "cell_type": "code",
      "metadata": {
        "id": "_F8qp-epnZeU",
        "colab_type": "code",
        "outputId": "064a8526-46f7-4e79-e8e4-674b02111437",
        "colab": {
          "base_uri": "https://localhost:8080/",
          "height": 1000
        }
      },
      "source": [
        "# 분류 신경망 학습\n",
        "history = model.fit(train_x, train_y, epochs=30, batch_size=16, validation_split=0.25)"
      ],
      "execution_count": 0,
      "outputs": [
        {
          "output_type": "stream",
          "text": [
            "Train on 4477 samples, validate on 1493 samples\n",
            "Epoch 1/30\n",
            "4477/4477 [==============================] - 3s 673us/sample - loss: 1.0987 - accuracy: 0.3469 - val_loss: 1.0980 - val_accuracy: 0.3496\n",
            "Epoch 2/30\n",
            "4477/4477 [==============================] - 1s 326us/sample - loss: 1.0977 - accuracy: 0.3493 - val_loss: 1.1001 - val_accuracy: 0.3128\n",
            "Epoch 3/30\n",
            "4477/4477 [==============================] - 2s 341us/sample - loss: 1.0970 - accuracy: 0.3527 - val_loss: 1.0984 - val_accuracy: 0.3771\n",
            "Epoch 4/30\n",
            "4477/4477 [==============================] - 1s 329us/sample - loss: 1.0959 - accuracy: 0.3699 - val_loss: 1.0952 - val_accuracy: 0.3470\n",
            "Epoch 5/30\n",
            "4477/4477 [==============================] - 2s 339us/sample - loss: 1.0940 - accuracy: 0.3840 - val_loss: 1.0954 - val_accuracy: 0.3791\n",
            "Epoch 6/30\n",
            "4477/4477 [==============================] - 1s 327us/sample - loss: 1.0925 - accuracy: 0.3844 - val_loss: 1.0919 - val_accuracy: 0.3918\n",
            "Epoch 7/30\n",
            "4477/4477 [==============================] - 1s 324us/sample - loss: 1.0902 - accuracy: 0.3902 - val_loss: 1.0905 - val_accuracy: 0.3871\n",
            "Epoch 8/30\n",
            "4477/4477 [==============================] - 1s 327us/sample - loss: 1.0898 - accuracy: 0.3978 - val_loss: 1.0880 - val_accuracy: 0.3905\n",
            "Epoch 9/30\n",
            "4477/4477 [==============================] - 1s 329us/sample - loss: 1.0882 - accuracy: 0.3976 - val_loss: 1.0877 - val_accuracy: 0.3905\n",
            "Epoch 10/30\n",
            "4477/4477 [==============================] - 1s 323us/sample - loss: 1.0881 - accuracy: 0.3974 - val_loss: 1.0887 - val_accuracy: 0.3831\n",
            "Epoch 11/30\n",
            "4477/4477 [==============================] - 1s 327us/sample - loss: 1.0873 - accuracy: 0.3996 - val_loss: 1.0870 - val_accuracy: 0.3918\n",
            "Epoch 12/30\n",
            "4477/4477 [==============================] - 2s 345us/sample - loss: 1.0867 - accuracy: 0.3965 - val_loss: 1.0874 - val_accuracy: 0.3898\n",
            "Epoch 13/30\n",
            "4477/4477 [==============================] - 2s 339us/sample - loss: 1.0868 - accuracy: 0.4016 - val_loss: 1.0882 - val_accuracy: 0.3918\n",
            "Epoch 14/30\n",
            "4477/4477 [==============================] - 1s 323us/sample - loss: 1.0863 - accuracy: 0.4045 - val_loss: 1.0872 - val_accuracy: 0.3891\n",
            "Epoch 15/30\n",
            "4477/4477 [==============================] - 1s 329us/sample - loss: 1.0873 - accuracy: 0.4005 - val_loss: 1.0897 - val_accuracy: 0.3831\n",
            "Epoch 16/30\n",
            "4477/4477 [==============================] - 1s 329us/sample - loss: 1.0863 - accuracy: 0.4038 - val_loss: 1.0879 - val_accuracy: 0.3938\n",
            "Epoch 17/30\n",
            "4477/4477 [==============================] - 1s 327us/sample - loss: 1.0863 - accuracy: 0.4003 - val_loss: 1.0874 - val_accuracy: 0.3912\n",
            "Epoch 18/30\n",
            "4477/4477 [==============================] - 1s 332us/sample - loss: 1.0856 - accuracy: 0.4000 - val_loss: 1.0865 - val_accuracy: 0.3918\n",
            "Epoch 19/30\n",
            "4477/4477 [==============================] - 1s 329us/sample - loss: 1.0866 - accuracy: 0.4014 - val_loss: 1.0887 - val_accuracy: 0.3925\n",
            "Epoch 20/30\n",
            "4477/4477 [==============================] - 1s 334us/sample - loss: 1.0862 - accuracy: 0.3974 - val_loss: 1.0873 - val_accuracy: 0.3945\n",
            "Epoch 21/30\n",
            "4477/4477 [==============================] - 1s 331us/sample - loss: 1.0850 - accuracy: 0.4047 - val_loss: 1.0876 - val_accuracy: 0.3865\n",
            "Epoch 22/30\n",
            "4477/4477 [==============================] - 1s 334us/sample - loss: 1.0853 - accuracy: 0.4005 - val_loss: 1.0876 - val_accuracy: 0.3898\n",
            "Epoch 23/30\n",
            "4477/4477 [==============================] - 1s 327us/sample - loss: 1.0848 - accuracy: 0.4065 - val_loss: 1.0909 - val_accuracy: 0.3918\n",
            "Epoch 24/30\n",
            "4477/4477 [==============================] - 2s 340us/sample - loss: 1.0850 - accuracy: 0.4023 - val_loss: 1.0863 - val_accuracy: 0.3938\n",
            "Epoch 25/30\n",
            "4477/4477 [==============================] - 1s 326us/sample - loss: 1.0848 - accuracy: 0.4047 - val_loss: 1.0875 - val_accuracy: 0.3918\n",
            "Epoch 26/30\n",
            "4477/4477 [==============================] - 1s 326us/sample - loss: 1.0847 - accuracy: 0.4000 - val_loss: 1.0861 - val_accuracy: 0.3905\n",
            "Epoch 27/30\n",
            "4477/4477 [==============================] - 1s 332us/sample - loss: 1.0843 - accuracy: 0.4003 - val_loss: 1.0866 - val_accuracy: 0.3918\n",
            "Epoch 28/30\n",
            "4477/4477 [==============================] - 1s 331us/sample - loss: 1.0840 - accuracy: 0.4038 - val_loss: 1.0924 - val_accuracy: 0.3798\n",
            "Epoch 29/30\n",
            "4477/4477 [==============================] - 1s 331us/sample - loss: 1.0842 - accuracy: 0.4009 - val_loss: 1.0864 - val_accuracy: 0.3918\n",
            "Epoch 30/30\n",
            "4477/4477 [==============================] - 1s 326us/sample - loss: 1.0843 - accuracy: 0.4052 - val_loss: 1.0866 - val_accuracy: 0.3865\n"
          ],
          "name": "stdout"
        }
      ]
    },
    {
      "cell_type": "code",
      "metadata": {
        "id": "oW96UKttnm1W",
        "colab_type": "code",
        "outputId": "f271e2fe-47f9-45c8-c3d7-d2aac351e787",
        "colab": {
          "base_uri": "https://localhost:8080/",
          "height": 265
        }
      },
      "source": [
        "\n",
        "# 10.10 분류 신경망 학습 결과 확인\n",
        "import matplotlib.pyplot as plt\n",
        "plt.plot(history.history['accuracy'], 'b-', label='accuracy')\n",
        "plt.plot(history.history['val_accuracy'], 'k--', label='val_accuracy')\n",
        "plt.legend()\n",
        "plt.show()"
      ],
      "execution_count": 0,
      "outputs": [
        {
          "output_type": "display_data",
          "data": {
            "image/png": "[encoded data removed]",
            "text/plain": [
              "<Figure size 432x288 with 1 Axes>"
            ]
          },
          "metadata": {
            "tags": []
          }
        }
      ]
    },
    {
      "cell_type": "code",
      "metadata": {
        "id": "6XDEA_qnpMYu",
        "colab_type": "code",
        "outputId": "6cdc1cfc-82e8-4daf-8b90-a11f066bca6c",
        "colab": {
          "base_uri": "https://localhost:8080/",
          "height": 107
        }
      },
      "source": [
        "# 분류 신경망으로 에이전트 행동 확인\n",
        "import matplotlib\n",
        "import matplotlib.pyplot as plt\n",
        "import seaborn as sns\n",
        "\n",
        "scores = []\n",
        "steps = []\n",
        "actions = []\n",
        "\n",
        "for i in range(500):\n",
        "    if i % 100 == 0:\n",
        "        print(i)\n",
        "    score = 0\n",
        "    step = 0\n",
        "    previous_obs = []\n",
        "    env.reset()\n",
        "\n",
        "    while True:\n",
        "        if len(previous_obs) == 0:\n",
        "            action = env.action_space.sample()\n",
        "        else:\n",
        "            logit = model.predict(np.expand_dims(previous_obs, axis=0))[0]\n",
        "            action = np.argmax(logit)\n",
        "            actions.append(action)\n",
        "        \n",
        "        obs, reward, done, info = env.step(action)\n",
        "        previous_obs = obs\n",
        "        score += reward\n",
        "        step += 1\n",
        "\n",
        "        if done:\n",
        "            break\n",
        "    \n",
        "    scores.append(score)\n",
        "    steps.append(step)"
      ],
      "execution_count": 0,
      "outputs": [
        {
          "output_type": "stream",
          "text": [
            "0\n",
            "100\n",
            "200\n",
            "300\n",
            "400\n"
          ],
          "name": "stdout"
        }
      ]
    },
    {
      "cell_type": "code",
      "metadata": {
        "id": "NRNir-fNqGGS",
        "colab_type": "code",
        "outputId": "edc4f257-1123-4cdf-bacf-9b9d642acb20",
        "colab": {
          "base_uri": "https://localhost:8080/",
          "height": 299
        }
      },
      "source": [
        "# score, step 분포 확인\n",
        "fig, ax = plt.subplots(1, 2, figsize=(12, 4))\n",
        "ax[0].set_title('score')\n",
        "ax[1].set_title('step')\n",
        "sns.distplot(scores, rug=True, ax=ax[0])\n",
        "sns.distplot(steps, rug=True, ax=ax[1])\n",
        "\n",
        "print(np.mean(scores))"
      ],
      "execution_count": 0,
      "outputs": [
        {
          "output_type": "stream",
          "text": [
            "-131.806\n"
          ],
          "name": "stdout"
        },
        {
          "output_type": "display_data",
          "data": {
            "image/png": "[encoded data removed]",
            "text/plain": [
              "<Figure size 864x288 with 2 Axes>"
            ]
          },
          "metadata": {
            "tags": []
          }
        }
      ]
    },
    {
      "cell_type": "code",
      "metadata": {
        "id": "SK9kf3a2_Ks8",
        "colab_type": "code",
        "outputId": "a53e96f1-0d8a-41c0-e547-4a17457fa2ea",
        "colab": {
          "base_uri": "https://localhost:8080/",
          "height": 283
        }
      },
      "source": [
        "# 행동 분포 확인\n",
        "sns.distplot(actions)"
      ],
      "execution_count": 0,
      "outputs": [
        {
          "output_type": "execute_result",
          "data": {
            "text/plain": [
              "<matplotlib.axes._subplots.AxesSubplot at 0x7fe9a0c7ab70>"
            ]
          },
          "metadata": {
            "tags": []
          },
          "execution_count": 34
        },
        {
          "output_type": "display_data",
          "data": {
            "image/png": "[encoded data removed]",
            "text/plain": [
              "<Figure size 432x288 with 1 Axes>"
            ]
          },
          "metadata": {
            "tags": []
          }
        }
      ]
    },
    {
      "cell_type": "code",
      "metadata": {
        "id": "rrYSMDz5q75d",
        "colab_type": "code",
        "outputId": "9f8ba194-8b9c-407e-8bc0-a69b2cdb8da4",
        "colab": {
          "base_uri": "https://localhost:8080/",
          "height": 456
        }
      },
      "source": [
        "# 분류 신경망 행동 에이전트 실행 결과 확인\n",
        "env.close()\n",
        "env = wrap_env(gym.make('MountainCar-v0'))\n",
        "env.reset()\n",
        "\n",
        "score = 0\n",
        "step = 0\n",
        "previous_obs = []\n",
        "while True:\n",
        "    if len(previous_obs) == 0:\n",
        "        action = env.action_space.sample()\n",
        "    else:\n",
        "        logit = model.predict(np.expand_dims(previous_obs, axis=0))[0]\n",
        "#         logit = logit.astype(float)\n",
        "#         logit = logit / logit.sum()\n",
        "#         prob = np.random.multinomial(1, logit)\n",
        "#         action = np.argmax(prob)\n",
        "        action = np.argmax(logit)\n",
        "    \n",
        "    obs, reward, done, info = env.step(action)\n",
        "    previous_obs = obs\n",
        "    score += reward\n",
        "    step += 1\n",
        "    \n",
        "    if done:\n",
        "        break\n",
        "\n",
        "print('score:', score)\n",
        "print('step:', step)\n",
        "env.close()\n",
        "show_video()"
      ],
      "execution_count": 0,
      "outputs": [
        {
          "output_type": "stream",
          "text": [
            "score: -159.0\n",
            "step: 159\n"
          ],
          "name": "stdout"
        },
        {
          "output_type": "display_data",
          "data": {
            "text/html": [
              "<video alt=\"test\" autoplay \n",
              "                loop controls style=\"height: 400px;\">\n",
              "                <source src=\"data:video/mp4;base64,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\" type=\"video/mp4\" />\n",
              "             </video>"
            ],
            "text/plain": [
              "<IPython.core.display.HTML object>"
            ]
          },
          "metadata": {
            "tags": []
          }
        }
      ]
    }
  ]
}